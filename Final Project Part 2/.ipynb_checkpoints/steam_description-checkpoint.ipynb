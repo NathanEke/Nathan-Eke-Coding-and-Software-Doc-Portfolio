{
 "cells": [
  {
   "cell_type": "markdown",
   "id": "f20a6302-8e01-476b-a2b4-88b50c7eccf0",
   "metadata": {},
   "source": [
    "# Steam - Game Descriptions\n",
    "\n",
    "## Instructions\n",
    "1. Open a game category page (e.g., Action). **Make sure to click the Load More button several times to list many games.**\n",
    "2. Copy the HTML content using the Developer Tool, and name the file <genre>.html (e.g., Action.html, Strategy.html)\n",
    "3. Open a Terminal from Anaconda Navigator\n",
    "4. Execute the following line:\n",
    "```python\n",
    "pytnon steam_description.py <genre>\n",
    "```\n",
    "Note: replace genre with the name of genre you used for the HTML file above.\n",
    "\n",
    "5. Edit the genre name in the following code cell (Line 8).\n",
    "6. Run the following code cell.\n",
    "7. Look at the **text** folder."
   ]
  },
  {
   "cell_type": "code",
   "execution_count": 1,
   "id": "91c1dcbb-a552-41e2-b18f-096d269fbc37",
   "metadata": {},
   "outputs": [
    {
     "name": "stdout",
     "output_type": "stream",
     "text": [
      "Part III...\n",
      "html\\RoguelikeDB\\Aces__Adventures.html\n"
     ]
    },
    {
     "ename": "FileNotFoundError",
     "evalue": "[Errno 2] No such file or directory: 'text\\\\RoguelikeDB\\\\Aces__Adventures.txt'",
     "output_type": "error",
     "traceback": [
      "\u001b[1;31m---------------------------------------------------------------------------\u001b[0m",
      "\u001b[1;31mFileNotFoundError\u001b[0m                         Traceback (most recent call last)",
      "Cell \u001b[1;32mIn[1], line 24\u001b[0m\n\u001b[0;32m     22\u001b[0m stem \u001b[38;5;241m=\u001b[39m fpath\u001b[38;5;241m.\u001b[39mstem\n\u001b[0;32m     23\u001b[0m fpath \u001b[38;5;241m=\u001b[39m genre_text_folder \u001b[38;5;241m/\u001b[39m \u001b[38;5;124mf\u001b[39m\u001b[38;5;124m\"\u001b[39m\u001b[38;5;132;01m{\u001b[39;00mstem\u001b[38;5;132;01m}\u001b[39;00m\u001b[38;5;124m.txt\u001b[39m\u001b[38;5;124m\"\u001b[39m\n\u001b[1;32m---> 24\u001b[0m fout \u001b[38;5;241m=\u001b[39m \u001b[38;5;28mopen\u001b[39m(fpath, \u001b[38;5;124m'\u001b[39m\u001b[38;5;124mw\u001b[39m\u001b[38;5;124m'\u001b[39m, errors\u001b[38;5;241m=\u001b[39m\u001b[38;5;124m\"\u001b[39m\u001b[38;5;124mignore\u001b[39m\u001b[38;5;124m\"\u001b[39m)\n\u001b[0;32m     25\u001b[0m text \u001b[38;5;241m=\u001b[39m div\u001b[38;5;241m.\u001b[39mtext\n\u001b[0;32m     26\u001b[0m text \u001b[38;5;241m=\u001b[39m text\u001b[38;5;241m.\u001b[39mstrip()\n",
      "File \u001b[1;32m~\\anaconda3\\envs\\CodingForHumanists\\Lib\\site-packages\\IPython\\core\\interactiveshell.py:324\u001b[0m, in \u001b[0;36m_modified_open\u001b[1;34m(file, *args, **kwargs)\u001b[0m\n\u001b[0;32m    317\u001b[0m \u001b[38;5;28;01mif\u001b[39;00m file \u001b[38;5;129;01min\u001b[39;00m {\u001b[38;5;241m0\u001b[39m, \u001b[38;5;241m1\u001b[39m, \u001b[38;5;241m2\u001b[39m}:\n\u001b[0;32m    318\u001b[0m     \u001b[38;5;28;01mraise\u001b[39;00m \u001b[38;5;167;01mValueError\u001b[39;00m(\n\u001b[0;32m    319\u001b[0m         \u001b[38;5;124mf\u001b[39m\u001b[38;5;124m\"\u001b[39m\u001b[38;5;124mIPython won\u001b[39m\u001b[38;5;124m'\u001b[39m\u001b[38;5;124mt let you open fd=\u001b[39m\u001b[38;5;132;01m{\u001b[39;00mfile\u001b[38;5;132;01m}\u001b[39;00m\u001b[38;5;124m by default \u001b[39m\u001b[38;5;124m\"\u001b[39m\n\u001b[0;32m    320\u001b[0m         \u001b[38;5;124m\"\u001b[39m\u001b[38;5;124mas it is likely to crash IPython. If you know what you are doing, \u001b[39m\u001b[38;5;124m\"\u001b[39m\n\u001b[0;32m    321\u001b[0m         \u001b[38;5;124m\"\u001b[39m\u001b[38;5;124myou can use builtins\u001b[39m\u001b[38;5;124m'\u001b[39m\u001b[38;5;124m open.\u001b[39m\u001b[38;5;124m\"\u001b[39m\n\u001b[0;32m    322\u001b[0m     )\n\u001b[1;32m--> 324\u001b[0m \u001b[38;5;28;01mreturn\u001b[39;00m io_open(file, \u001b[38;5;241m*\u001b[39margs, \u001b[38;5;241m*\u001b[39m\u001b[38;5;241m*\u001b[39mkwargs)\n",
      "\u001b[1;31mFileNotFoundError\u001b[0m: [Errno 2] No such file or directory: 'text\\\\RoguelikeDB\\\\Aces__Adventures.txt'"
     ]
    }
   ],
   "source": [
    "import pathlib\n",
    "from bs4 import BeautifulSoup as bs\n",
    "\n",
    "print(\"Part III...\")\n",
    "html_folder = pathlib.Path(\"html\")\n",
    "text_folder = pathlib.Path(\"text\")\n",
    "\n",
    "genre = \"RoguelikeDB\"                ############ Edit the genre name\n",
    "\n",
    "genre_text_folder = text_folder / genre\n",
    "genre_html_folder = html_folder / genre\n",
    "\n",
    "html_files = genre_html_folder.glob(\"*.html\")\n",
    "for fpath in html_files: \n",
    "    print(fpath)\n",
    "    fin = open(fpath, errors=\"ignore\")\n",
    "    html_str = fin.read()\n",
    "    soup = bs(html_str, \"html.parser\")           # create a beautifulsoup object\n",
    "    div = soup.find(\"div\", { \"class\" : \"game_description_snippet\" })\n",
    "        \n",
    "    if div != None:\n",
    "        stem = fpath.stem\n",
    "        fpath = genre_text_folder / f\"{stem}.txt\"\n",
    "        fout = open(fpath, 'w', errors=\"ignore\")\n",
    "        text = div.text\n",
    "        text = text.strip()\n",
    "        fout.write(text)\n",
    "        fout.close()\n",
    "    else:\n",
    "        print(\"Error: HTML format may be different...\", fpath.name)\n",
    "        \n",
    "    fin.close()\n",
    "\n",
    "print(\"Done! Look at the text files in the text_files folder.\")    "
   ]
  },
  {
   "cell_type": "code",
   "execution_count": null,
   "id": "d800d8f4-74df-4c0c-9898-d19a4908c684",
   "metadata": {},
   "outputs": [],
   "source": []
  }
 ],
 "metadata": {
  "kernelspec": {
   "display_name": "Python 3 (ipykernel)",
   "language": "python",
   "name": "python3"
  },
  "language_info": {
   "codemirror_mode": {
    "name": "ipython",
    "version": 3
   },
   "file_extension": ".py",
   "mimetype": "text/x-python",
   "name": "python",
   "nbconvert_exporter": "python",
   "pygments_lexer": "ipython3",
   "version": "3.12.3"
  }
 },
 "nbformat": 4,
 "nbformat_minor": 5
}
