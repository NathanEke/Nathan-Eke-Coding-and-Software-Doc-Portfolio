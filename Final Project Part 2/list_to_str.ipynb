{
 "cells": [
  {
   "cell_type": "markdown",
   "id": "56bdeaff",
   "metadata": {},
   "source": [
    "### Helper function for the final project.\n",
    "\n",
    "Use the following function `list_to_str` to convert a list of words (strings) or ngrams (tuples) to a string that can be written to a single cell in a CSV file.\n",
    "\n",
    "**You should simply copty-&-past the function definition** to your Jupyter notebook file."
   ]
  },
  {
   "cell_type": "code",
   "execution_count": 1,
   "id": "6f3fb08e",
   "metadata": {},
   "outputs": [],
   "source": [
    "def list_to_str(lst):\n",
    "    \"\"\"\n",
    "    This function takes a list of words or a list of tuples as its argument, and \n",
    "    returns a list of words or ngrams (tuples) to a string that \n",
    "    can be written to a single cell in a CSV file.\n",
    "    \"\"\"\n",
    "    s = ''\n",
    "    for i in range(len(lst)):  # for each tuple\n",
    "\n",
    "        # Create a string from a tuple (e.g., \"the united nations\")\n",
    "        if type(lst[i]) == tuple:\n",
    "            s += ' '.join(lst[i])\n",
    "        else:\n",
    "            s += lst[i]\n",
    "\n",
    "        # Insert a '|' character if i is not the last index.\n",
    "        # (e.g., \"the united nations | i believe that\")\n",
    "        if i < len(lst)-1:           \n",
    "            s += ' | '\n",
    "            \n",
    "    return \"{}\".format(s)"
   ]
  },
  {
   "cell_type": "markdown",
   "id": "4752afe3",
   "metadata": {},
   "source": [
    "## Usage example"
   ]
  },
  {
   "cell_type": "code",
   "execution_count": 2,
   "id": "5abff2aa",
   "metadata": {},
   "outputs": [
    {
     "name": "stdout",
     "output_type": "stream",
     "text": [
      "Look at the csv file (test_bad.csv) in the test folder.\n"
     ]
    }
   ],
   "source": [
    "import csv\n",
    "fhandle_bad = open(\"test/test_bad.csv\", 'w')\n",
    "\n",
    "bad_writer = csv.writer(fhandle_bad)\n",
    "\n",
    "# Test #1 \n",
    "words = ['All', 'children', 'except', 'one', 'grow', 'up']\n",
    "bad_writer.writerow([words])\n",
    "\n",
    "# Test #2 \n",
    "ngrams = [('All', 'children'), ('children', 'except'), ('except', 'one'), ('one', 'grow'), ('grow', 'up')]\n",
    "bad_writer.writerow([ngrams])               \n",
    "\n",
    "fhandle_bad.close()\n",
    "\n",
    "print(\"Look at the csv file (test_bad.csv) in the test folder.\")"
   ]
  },
  {
   "cell_type": "code",
   "execution_count": 3,
   "id": "a3c23fad",
   "metadata": {},
   "outputs": [
    {
     "name": "stdout",
     "output_type": "stream",
     "text": [
      "All | children | except | one | grow | up\n",
      "All children | children except | except one | one grow | grow up\n",
      "Look at the csv file (test_good.csv) in the test folder.\n"
     ]
    }
   ],
   "source": [
    "import csv\n",
    "fhandle_good = open(\"test/test_good.csv\", 'w')\n",
    "\n",
    "good_writer = csv.writer(fhandle_good)\n",
    "\n",
    "# Test #1 -- Convert a list of strings to a single string\n",
    "words = ['All', 'children', 'except', 'one', 'grow', 'up']\n",
    "s = list_to_str(words)      # convert a list of words to a string using the list_to_str function\n",
    "print(s)\n",
    "good_writer.writerow([s])\n",
    "\n",
    "# Test #2 -- Convert a list of tuples to a single string\n",
    "ngrams = [('All', 'children'), ('children', 'except'), ('except', 'one'), ('one', 'grow'), ('grow', 'up')]\n",
    "s = list_to_str(ngrams)     # convert a list of tuples to a string using the list_to_str function\n",
    "print(s)\n",
    "good_writer.writerow([s])\n",
    "\n",
    "fhandle_good.close()\n",
    "\n",
    "print(\"Look at the csv file (test_good.csv) in the test folder.\")"
   ]
  },
  {
   "cell_type": "code",
   "execution_count": null,
   "id": "5081556a",
   "metadata": {},
   "outputs": [],
   "source": []
  },
  {
   "cell_type": "code",
   "execution_count": null,
   "id": "4985938d",
   "metadata": {},
   "outputs": [],
   "source": []
  }
 ],
 "metadata": {
  "kernelspec": {
   "display_name": "Python 3 (ipykernel)",
   "language": "python",
   "name": "python3"
  },
  "language_info": {
   "codemirror_mode": {
    "name": "ipython",
    "version": 3
   },
   "file_extension": ".py",
   "mimetype": "text/x-python",
   "name": "python",
   "nbconvert_exporter": "python",
   "pygments_lexer": "ipython3",
   "version": "3.12.3"
  }
 },
 "nbformat": 4,
 "nbformat_minor": 5
}
